{
  "nbformat": 4,
  "nbformat_minor": 0,
  "metadata": {
    "colab": {
      "name": "Application.ipynb",
      "provenance": [],
      "authorship_tag": "ABX9TyNekp7yKafEwndDoBxBZHgk",
      "include_colab_link": true
    },
    "kernelspec": {
      "name": "python3",
      "display_name": "Python 3"
    },
    "language_info": {
      "name": "python"
    }
  },
  "cells": [
    {
      "cell_type": "markdown",
      "metadata": {
        "id": "view-in-github",
        "colab_type": "text"
      },
      "source": [
        "<a href=\"https://colab.research.google.com/github/mazette04/Linear-Algebra-58019/blob/main/Application.ipynb\" target=\"_parent\"><img src=\"https://colab.research.google.com/assets/colab-badge.svg\" alt=\"Open In Colab\"/></a>"
      ]
    },
    {
      "cell_type": "markdown",
      "metadata": {
        "id": "CURT3iaREkg6"
      },
      "source": [
        "##The price of one apple and one orange "
      ]
    },
    {
      "cell_type": "code",
      "metadata": {
        "colab": {
          "base_uri": "https://localhost:8080/"
        },
        "id": "TeDYHijdEfXS",
        "outputId": "0247d7b4-d344-40d7-98e6-2b488b2f1dc9"
      },
      "source": [
        "import numpy as np\n",
        "from scipy.linalg import solve\n",
        "A = np.array([[20,10],[17,22]])\n",
        "B = np.array([[350],[500]])\n",
        "print(A)\n",
        "print(B)\n",
        "X = solve(A,B)\n",
        "print(X)"
      ],
      "execution_count": 8,
      "outputs": [
        {
          "output_type": "stream",
          "name": "stdout",
          "text": [
            "[[20 10]\n",
            " [17 22]]\n",
            "[[350]\n",
            " [500]]\n",
            "[[10.]\n",
            " [15.]]\n"
          ]
        }
      ]
    },
    {
      "cell_type": "code",
      "metadata": {
        "colab": {
          "base_uri": "https://localhost:8080/"
        },
        "id": "2fwvY77AHJq6",
        "outputId": "68607da9-c40c-404c-b436-c8d36748a220"
      },
      "source": [
        "inv_A=np.linalg.inv(A)\n",
        "print(inv_A)\n",
        "X = np.linalg.inv(A).dot(B)\n",
        "print(X)"
      ],
      "execution_count": 4,
      "outputs": [
        {
          "output_type": "stream",
          "name": "stdout",
          "text": [
            "[[ 0.08148148 -0.03703704]\n",
            " [-0.06296296  0.07407407]]\n",
            "[[10.]\n",
            " [15.]]\n"
          ]
        }
      ]
    },
    {
      "cell_type": "code",
      "metadata": {
        "colab": {
          "base_uri": "https://localhost:8080/"
        },
        "id": "iCwUtCZjH8zf",
        "outputId": "1964d28b-4033-45ce-8f35-53b578d77d12"
      },
      "source": [
        "X=np.dot(inv_A,B)\n",
        "print(X)"
      ],
      "execution_count": 6,
      "outputs": [
        {
          "output_type": "stream",
          "name": "stdout",
          "text": [
            "[[10.]\n",
            " [15.]]\n"
          ]
        }
      ]
    },
    {
      "cell_type": "markdown",
      "metadata": {
        "id": "IUnpv_bALCf2"
      },
      "source": [
        "##Solving for three linear equations with unknown variables of x, y, and z"
      ]
    },
    {
      "cell_type": "code",
      "metadata": {
        "colab": {
          "base_uri": "https://localhost:8080/"
        },
        "id": "fOmfcuepLNg9",
        "outputId": "5cde6902-dc8e-4d4d-9eb6-abbb12388be5"
      },
      "source": [
        "#4x+3y+2z=25\n",
        "#-2z+2y+3z=-10\n",
        "#3x-5y+2z=-4\n",
        "\n",
        "A = np.array([[4,3,2],[-2,2,3],[3,-5,2]])\n",
        "print(A)\n",
        "B = np.array([[25],[-10],[-4]])\n",
        "print(B)\n",
        "X = solve(A,B)\n",
        "print(X)"
      ],
      "execution_count": 12,
      "outputs": [
        {
          "output_type": "stream",
          "name": "stdout",
          "text": [
            "[[ 4  3  2]\n",
            " [-2  2  3]\n",
            " [ 3 -5  2]]\n",
            "[[ 25]\n",
            " [-10]\n",
            " [ -4]]\n",
            "[[ 5.]\n",
            " [ 3.]\n",
            " [-2.]]\n"
          ]
        }
      ]
    }
  ]
}